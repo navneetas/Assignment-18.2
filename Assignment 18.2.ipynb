{
 "cells": [
  {
   "cell_type": "code",
   "execution_count": 4,
   "metadata": {},
   "outputs": [],
   "source": [
    "import math\n",
    "import scipy.stats as st"
   ]
  },
  {
   "cell_type": "code",
   "execution_count": 1,
   "metadata": {},
   "outputs": [],
   "source": [
    "P1 = 0.52  #proportion of Republican voters in the first state\n",
    "P2 =0.47   #proportion of Republican voters in the second state\n",
    "p1 = 'the proportion of Republican voters in the sample from the first state'\n",
    "p2 = 'the proportion of Republican voters in the sample from the second state'\n",
    "\n",
    "n1 = 100   #number of voters sampled from the first state \n",
    "n2 = 100   #number of voters sampled from the second state"
   ]
  },
  {
   "cell_type": "code",
   "execution_count": 7,
   "metadata": {},
   "outputs": [],
   "source": [
    "#Find the mean of the difference in sample proportions, i.e, Expected Value E[p1 -p2] = P1 - P2\n",
    "mean = P1 - P2   "
   ]
  },
  {
   "cell_type": "code",
   "execution_count": 8,
   "metadata": {},
   "outputs": [
    {
     "data": {
      "text/plain": [
       "0.050000000000000044"
      ]
     },
     "execution_count": 8,
     "metadata": {},
     "output_type": "execute_result"
    }
   ],
   "source": [
    "mean"
   ]
  },
  {
   "cell_type": "code",
   "execution_count": 6,
   "metadata": {},
   "outputs": [],
   "source": [
    "# Find the standard deviation of the difference\n",
    "\n",
    "X1 = 1 - P1\n",
    "X2 = 1 - P2\n",
    "\n",
    "std_diff = math.sqrt(((P1*X1) / n1) + ((P2 * X2) / n2))"
   ]
  },
  {
   "cell_type": "code",
   "execution_count": 9,
   "metadata": {},
   "outputs": [
    {
     "data": {
      "text/plain": [
       "0.07061869440877536"
      ]
     },
     "execution_count": 9,
     "metadata": {},
     "output_type": "execute_result"
    }
   ],
   "source": [
    "std_diff"
   ]
  },
  {
   "cell_type": "code",
   "execution_count": 10,
   "metadata": {},
   "outputs": [],
   "source": [
    "#to find the probability that p1 is less than p2, i.e, p1-p2 < 0\n",
    "\n",
    "x = 0\n",
    "\n",
    "Z = (x - mean) / std_diff    # to transform the random variable (p1 - p2) into a z-score."
   ]
  },
  {
   "cell_type": "code",
   "execution_count": 17,
   "metadata": {},
   "outputs": [
    {
     "data": {
      "text/plain": [
       "-0.7080278164104213"
      ]
     },
     "execution_count": 17,
     "metadata": {},
     "output_type": "execute_result"
    }
   ],
   "source": [
    "Z"
   ]
  },
  {
   "cell_type": "code",
   "execution_count": 12,
   "metadata": {},
   "outputs": [],
   "source": [
    "Z_score = st.norm.cdf(Z)"
   ]
  },
  {
   "cell_type": "code",
   "execution_count": 30,
   "metadata": {},
   "outputs": [
    {
     "name": "stdout",
     "output_type": "stream",
     "text": [
      "Probability of a z-score being -0.71 or less is 0.24\n",
      "Probability that the survey will show a greater percentage of Republican voters in the second state than in the first state is 0.24.\n"
     ]
    }
   ],
   "source": [
    "print('Probability of a z-score being {:.2f} or less is {:.2f}'.format(Z,Z_score) )\n",
    "print('Probability that the survey will show a greater percentage of Republican voters in the second state than in the first state is {:.2f}.'.format(Z_score))"
   ]
  },
  {
   "cell_type": "code",
   "execution_count": null,
   "metadata": {},
   "outputs": [],
   "source": []
  }
 ],
 "metadata": {
  "kernelspec": {
   "display_name": "Python 3",
   "language": "python",
   "name": "python3"
  },
  "language_info": {
   "codemirror_mode": {
    "name": "ipython",
    "version": 3
   },
   "file_extension": ".py",
   "mimetype": "text/x-python",
   "name": "python",
   "nbconvert_exporter": "python",
   "pygments_lexer": "ipython3",
   "version": "3.6.4"
  }
 },
 "nbformat": 4,
 "nbformat_minor": 2
}
